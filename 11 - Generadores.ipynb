{
 "cells": [
  {
   "cell_type": "markdown",
   "id": "surface-gazette",
   "metadata": {},
   "source": [
    "# Generadores"
   ]
  },
  {
   "cell_type": "markdown",
   "id": "vanilla-diploma",
   "metadata": {},
   "source": [
    "## Introducción\n",
    "\n",
    "Se conoce como **generadores** a las **funciones** o **métodos** capaces de *generar* una iteración. "
   ]
  },
  {
   "cell_type": "markdown",
   "id": "selective-livestock",
   "metadata": {},
   "source": [
    "## Trabajando con Generadores\n",
    "\n",
    "Haciendo memoria, durante varios ejemplos anteriores se ha usado de manera común la **función built-in** `range`, la cual *genera* una serie de números incrementando en 1 el anterior salvo que se especifique otra unidad de incremento. En concreto, se ha usado en la iteración de las **comprensión de listas**.\n",
    "\n",
    "Es un ejemplo perfecto para implementar un **generador** sencillo. Se reescribiría así:"
   ]
  },
  {
   "cell_type": "code",
   "execution_count": null,
   "id": "upper-discretion",
   "metadata": {},
   "outputs": [],
   "source": [
    "def rango(inicio, fin, incremento=1):\n",
    "    while(inicio < fin):\n",
    "        yield inicio\n",
    "        inicio += incremento\n",
    "\n",
    "mi_rango = rango(1, 10)\n",
    "\n",
    "print(mi_rango)\n",
    "\n",
    "[item for item in mi_rango]"
   ]
  },
  {
   "cell_type": "markdown",
   "id": "placed-finding",
   "metadata": {},
   "source": [
    "Como puede verse en el ejemplo, el valor retornado en cada iteración es devuelto por `yield`. En realidad, esa es la clave de todo. Cuando se llama a la función `rango`, esta devuelve un objeto **generator**. La ejecución se *pausa* en `yield` hasta que *algo* (el bucle **for...in**) accede al valor. Entonces **python** *despertará* la función devolviendo el valor que tiene `yield` (la variable `inicio` en este caso) y continuará la ejecución hasta que la **función** termine o encuentre otro `yield`: "
   ]
  },
  {
   "cell_type": "code",
   "execution_count": null,
   "id": "assumed-adobe",
   "metadata": {
    "scrolled": true
   },
   "outputs": [],
   "source": [
    "mi_rango = rango(1, 3)\n",
    "\n",
    "print(mi_rango.__next__())\n",
    "print(mi_rango.__next__())\n",
    "print(mi_rango.__next__())\n"
   ]
  },
  {
   "cell_type": "markdown",
   "id": "celtic-listing",
   "metadata": {},
   "source": [
    "Otra particularidad de los **generadores** es que, una vez se han iterado, ya no se pueden volver a iterar, quedan \"vacíos\":"
   ]
  },
  {
   "cell_type": "code",
   "execution_count": null,
   "id": "under-nebraska",
   "metadata": {},
   "outputs": [],
   "source": [
    "[item for item in mi_rango]"
   ]
  },
  {
   "cell_type": "markdown",
   "id": "understood-reply",
   "metadata": {},
   "source": [
    "Los **generadores** son tremendamente útiles para **ahorrar memoria** dado que no contienen todos los elementos de la iteración, solamente devuelven uno a cada paso de la misma. Al recorrer grandes volúmenes de datos se gana mucho rendimiento utilizando esta técnica.\n",
    "\n",
    "Habrá más sobre **generadores** junto con el tratamiento de ficheros `.csv`."
   ]
  },
  {
   "cell_type": "markdown",
   "id": "integral-beginning",
   "metadata": {},
   "source": [
    "## Ejercicios\n",
    "\n",
    "1. Haz una **función** que abra el archivo `quijote.txt` y devuelva un **generador** que permita iterar por el archivo palabra a palabra.\n",
    "\n",
    "- Pistas: Usa el paquete `re` para evaluar si un caracter es una letra. Para leer un archivo de texto caracter a carater, usa `read(1)`.\n"
   ]
  }
 ],
 "metadata": {
  "kernelspec": {
   "display_name": "Python 3 (ipykernel)",
   "language": "python",
   "name": "python3"
  },
  "language_info": {
   "codemirror_mode": {
    "name": "ipython",
    "version": 3
   },
   "file_extension": ".py",
   "mimetype": "text/x-python",
   "name": "python",
   "nbconvert_exporter": "python",
   "pygments_lexer": "ipython3",
   "version": "3.9.9"
  }
 },
 "nbformat": 4,
 "nbformat_minor": 5
}
