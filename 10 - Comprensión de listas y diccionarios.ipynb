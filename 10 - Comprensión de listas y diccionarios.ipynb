{
 "cells": [
  {
   "cell_type": "markdown",
   "id": "gentle-brisbane",
   "metadata": {},
   "source": [
    "# Comprensión de listas y diccionarios"
   ]
  },
  {
   "cell_type": "markdown",
   "id": "structured-prompt",
   "metadata": {},
   "source": [
    "## Introducción\n",
    "\n",
    "La **comprensión** de **listas** o **diccionarios** (list/dict comprehension) puede resumirse como la obtención de **listas** o **diccionarios** nuevos resultado de una iteración."
   ]
  },
  {
   "cell_type": "markdown",
   "id": "healthy-saudi",
   "metadata": {},
   "source": [
    "## Comprensión de listas (list comprehension)\n",
    "\n",
    "Aunque en algunos lugares se *castellaniza* como **comprensión de listas**, lo normal es ver su nombre en inglés (como en casi todo) **list comprehension**. Como se observa en ejemplo anterior, una **list comprehension** no es mas que la obtención de una nueva **lista** a partir de una iteración.\n",
    "\n",
    "Como en las **listas** habituales, se hace con `[]` pero en lugar de elementos separados por coma, se incluye un bucle **for...in**. Este puede ir acompañado por una **condición** if, lo que reducirá el número de elementos cuando este se evalúe a `False` y adicionalmente se puede agregar una operación justo antes de añadir el elemento a la lista.\n",
    "\n",
    "Una expresión **list comprehension** puede dividirse en las siguientes fases:\n",
    "\n",
    "1. **\\[** ... **for** item **in** list ... **\\]** o *fase de bucle*: Es el punto de la expresión donde se itera sobre la lista. Se podría decir que es la misma en ejecutarse, dado que el elemento actual de la lista va a estar disponible en las otras dos *fases*.\n",
    "\n",
    "2. **\\[** ... <*1º bucle*> **if** item <*condición*> **\\]** o *fase de condicional* (opcional): Se establece una condición que hará de filtro para seleccionar los elementos que cumplan con la misma.\n",
    "\n",
    "3. **\\[** **item** ... <*1º bucle*> <*2º condición*> **\\]** o *fase de inserción*: Se añade el elemento a la nueva lista. Se pueden hacer operaciones con él antes de ser insertado, por ejemplo, si `item` fuese un entero se le podría sumar un valor.\n",
    "\n",
    "Nota: Un **set** también es compatible con la **comprensión de listas** y devolverá un conjunto sin repetir. Simplemente, usa \"{}\" en lugar de \"[]\"\n"
   ]
  },
  {
   "cell_type": "code",
   "execution_count": null,
   "id": "contained-particular",
   "metadata": {},
   "outputs": [],
   "source": [
    "ejemplo = [{\"autor\": \"francisco\", \"fecha\": \"2021-03-13\"}, {\"autor\": \"pablo\", \"fecha\": \"2021-03-18\"}, {\"autor\": \"ignacio\", \"fecha\": \"2021-03-18\"}]\n",
    "\n",
    "resultado = [elemento[\"autor\"] for elemento in ejemplo if elemento[\"fecha\"] == \"2021-03-18\"]\n",
    "\n",
    "print(resultado)"
   ]
  },
  {
   "cell_type": "markdown",
   "id": "mighty-genome",
   "metadata": {},
   "source": [
    "### Obtener lista de números pares con y sin comprensión de listas"
   ]
  },
  {
   "cell_type": "markdown",
   "id": "korean-bacon",
   "metadata": {},
   "source": [
    "#### Sin **comprensión de listas**:"
   ]
  },
  {
   "cell_type": "code",
   "execution_count": null,
   "id": "manufactured-saint",
   "metadata": {},
   "outputs": [],
   "source": [
    "pares = []  \n",
    "\n",
    "for item in range(0, 10):  # Primero, se configura la iteración\n",
    "    if item % 2 == 0:  # Segundo, se aplica una condición si es necesario\n",
    "        pares.append(item)  # Por último, se añade el elemento a la lista\n",
    "        \n",
    "pares"
   ]
  },
  {
   "cell_type": "markdown",
   "id": "surprising-nightmare",
   "metadata": {},
   "source": [
    "En un bucle **for...in** habitual se ven mejor las \"fases\" descritas anteriormente porque el código se anida."
   ]
  },
  {
   "cell_type": "markdown",
   "id": "cooked-steal",
   "metadata": {},
   "source": [
    "#### Con **comprensión de listas**:"
   ]
  },
  {
   "cell_type": "code",
   "execution_count": null,
   "id": "active-aurora",
   "metadata": {},
   "outputs": [],
   "source": [
    "pares = [item for item in range(0, 10) if item % 2 == 0]\n",
    "\n",
    "pares"
   ]
  },
  {
   "cell_type": "markdown",
   "id": "fitting-highland",
   "metadata": {},
   "source": [
    "### Sucesión de Fibonacci"
   ]
  },
  {
   "cell_type": "markdown",
   "id": "automotive-latvia",
   "metadata": {},
   "source": [
    "#### Sin comprensión de listas"
   ]
  },
  {
   "cell_type": "code",
   "execution_count": null,
   "id": "successful-infrared",
   "metadata": {},
   "outputs": [],
   "source": [
    "fibonacci = []\n",
    "\n",
    "for i in range(0, 10):\n",
    "    if len(fibonacci):\n",
    "        fibonacci.append(sum(fibonacci[-2:]))\n",
    "    else:\n",
    "        fibonacci.append(1)\n",
    "\n",
    "fibonacci"
   ]
  },
  {
   "cell_type": "markdown",
   "id": "opponent-leeds",
   "metadata": {},
   "source": [
    "#### Con comprensión de listas"
   ]
  },
  {
   "cell_type": "code",
   "execution_count": null,
   "id": "identified-devil",
   "metadata": {},
   "outputs": [],
   "source": [
    "fibonacci = list(map(lambda x: x[1] ,[prev:=((prev + [sum(prev)])[-2:] if i else [0, 1]) for i in range(0,10)]))\n",
    "\n",
    "fibonacci"
   ]
  },
  {
   "cell_type": "markdown",
   "id": "weighted-nowhere",
   "metadata": {},
   "source": [
    "#### ¿Que ejemplo es mejor?\n",
    "\n",
    "En condiciones normales, posiblemente el uso de **comprensión de listas** sea mas eficiente para **python** pero... ¿Que ejemplo se entiende mejor?\n",
    "\n",
    "A veces las expresiones en una sola línea son geniales porque economizan mucho código, pero si se complica mucho con **operaciones ternarias** (**if/else** en una sola línea), múltiples llamadas a funciones, filtros o un largo etcétera, es recomendable que el código sea más legible.\n",
    "\n",
    "En el caso de la *selección de números pares*, el uso de **comprensión de listas** no reduce la legibilidad del código y queda muy bien en una sola línea. \n",
    "\n",
    "En la sección de acceso a ficheros *.csv* se profundizará sobre el buen uso de **comprensión de listas**."
   ]
  },
  {
   "cell_type": "markdown",
   "id": "integrated-television",
   "metadata": {},
   "source": [
    "## Comprensión de diccionarios (dict comprehension)\n",
    "\n",
    "Al igual que en el caso de las **listas**, también se pueden generar nuevos **diccionarios** a partir de una iteración, solo que en el caso de los **diccionarios**, al ser estructuras de **clave/valor**, en la *fase* de asignación habría que devolver una **clave/valor**. Además se utiliza `{}` para indicar que el resultado es un **diccionario**:"
   ]
  },
  {
   "cell_type": "code",
   "execution_count": null,
   "id": "proper-murray",
   "metadata": {},
   "outputs": [],
   "source": [
    "{f\"numero_{num}\":num for num in range(0, 10)}"
   ]
  },
  {
   "cell_type": "markdown",
   "id": "champion-compact",
   "metadata": {},
   "source": [
    "## Ejercicios\n",
    "\n",
    "1. Crea un archivo nuevo llamado `comprehension_demo.py` e importa la función `obtener_noticias` de `scrapper.py`.\n",
    "\n",
    "2. Llama a esa función sin parámetros y almacena esa lista en una nueva variable.\n",
    "\n",
    "3. Obten las categorías sin repetir utilizando **comprensión de listas**.\n",
    "\n",
    "4. **Reto**: Obten los títulos de las noticias agrupados por autor usando **comprensión de diccionarios** y **comprensión de listas**."
   ]
  }
 ],
 "metadata": {
  "kernelspec": {
   "display_name": "Python 3 (ipykernel)",
   "language": "python",
   "name": "python3"
  },
  "language_info": {
   "codemirror_mode": {
    "name": "ipython",
    "version": 3
   },
   "file_extension": ".py",
   "mimetype": "text/x-python",
   "name": "python",
   "nbconvert_exporter": "python",
   "pygments_lexer": "ipython3",
   "version": "3.9.9"
  }
 },
 "nbformat": 4,
 "nbformat_minor": 5
}
