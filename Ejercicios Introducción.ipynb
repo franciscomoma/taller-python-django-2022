{
 "metadata": {
  "language_info": {
   "codemirror_mode": {
    "name": "ipython",
    "version": 3
   },
   "file_extension": ".py",
   "mimetype": "text/x-python",
   "name": "python",
   "nbconvert_exporter": "python",
   "pygments_lexer": "ipython3",
   "version": "3.8.8-final"
  },
  "orig_nbformat": 2,
  "kernelspec": {
   "name": "python3",
   "display_name": "Python 3.8.8 64-bit ('venv')",
   "metadata": {
    "interpreter": {
     "hash": "3d9d1c5df00f9f948071c20edb932aa62d4ca51c68e564d77637443f036143e6"
    }
   }
  }
 },
 "nbformat": 4,
 "nbformat_minor": 2,
 "cells": [
  {
   "cell_type": "code",
   "execution_count": 1,
   "metadata": {},
   "outputs": [
    {
     "output_type": "execute_result",
     "data": {
      "text/plain": [
       "'\\nEjercicio:\\n1) Rellenar la cadena del abecedario con el símbolo # hasta completar 30 caracteres.\\n2) Mirar la longitud de la cadena abecedario.\\n3) Poner en mayúsculas y en minúsculas la cadena.\\n4) Buscar en la cadena abecedario la letra R y saber su posicion\\n5) Crea otra cadena con las 5 letras que van después de la n\\n6) Reemplazar la letra Z por Hola.\\n7) Obtener una lista de la cadena abecedario y separarla por la letra i\\n8) Unir la lista anterior con el símbolo “-” usando ‘-’.join(lista).\\n'"
      ]
     },
     "metadata": {},
     "execution_count": 1
    }
   ],
   "source": [
    "\"\"\"\n",
    "Ejercicio 1:\n",
    "1) Rellenar la cadena del abecedario con el símbolo # hasta completar 30 caracteres.\n",
    "2) Mirar la longitud de la cadena abecedario.\n",
    "3) Poner en mayúsculas y en minúsculas la cadena.\n",
    "4) Buscar en la cadena abecedario la letra R y saber su posicion\n",
    "5) Crea otra cadena con las 5 letras que van después de la n\n",
    "6) Reemplazar la letra Z por Hola.\n",
    "7) Obtener una lista de la cadena abecedario y separarla por la letra i\n",
    "8) Unir la lista anterior con el símbolo “-” usando ‘-’.join(lista).\n",
    "\"\"\""
   ]
  },
  {
   "cell_type": "code",
   "execution_count": 4,
   "metadata": {},
   "outputs": [
    {
     "output_type": "stream",
     "name": "stdout",
     "text": [
      "abcdefghijklmnopqrstuvwxyz\n"
     ]
    }
   ],
   "source": [
    "import string\n",
    "abc = string.ascii_lowercase\n"
   ]
  },
  {
   "cell_type": "code",
   "execution_count": 16,
   "metadata": {},
   "outputs": [
    {
     "output_type": "execute_result",
     "data": {
      "text/plain": [
       "'\\nEjercicio:\\n1) Crear una lista con los meses del año\\n2) Selecciona el mes noveno, y el penúltimo\\n3) Crea una lista con los meses de verano (septimo a noveno)\\n4) Crea una lista con los meses de verano en orden inverso\\n'"
      ]
     },
     "metadata": {},
     "execution_count": 16
    }
   ],
   "source": [
    "\"\"\"\n",
    "Ejercicio 2:\n",
    "1) Crear una lista con los meses del año\n",
    "2) Selecciona el mes noveno, y el penúltimo\n",
    "3) Crea una lista con los meses de verano (septimo a noveno)\n",
    "4) Crea una lista con los meses de verano en orden inverso\n",
    "\"\"\""
   ]
  },
  {
   "cell_type": "code",
   "execution_count": 30,
   "metadata": {},
   "outputs": [
    {
     "output_type": "execute_result",
     "data": {
      "text/plain": [
       "('SEPTIEMBRE', 'OCTUBRE', 'NOVIEMBRE', 'DICIEMBRE')"
      ]
     },
     "metadata": {},
     "execution_count": 30
    }
   ],
   "source": [
    "\"\"\"\n",
    "Ejercicio 3:\n",
    "1) Crear una tupla con los meses del año\n",
    "2) Selecciona el mes noveno, y el penúltimo\n",
    "3) Selecciona todos los meses después de Agosto (no incluido)\n",
    "\"\"\"\n"
   ]
  },
  {
   "cell_type": "code",
   "execution_count": null,
   "metadata": {},
   "outputs": [],
   "source": [
    "\"\"\"\n",
    "Ejercicio 4:\n",
    "1) Crea un diccionario con todos los meses del año, donde la key sea el mes y el valor los días del mes.\n",
    "2) Mostrar los días que tiene el mes de Marzo\n",
    "3) Crea una tupla con los keys del diccionario que se ha creado.\n",
    "4) Crea una tupla con los values del diccionario que se ha creado.\n",
    "5) Calcula el tamaño del diccionario\n",
    "6) Borrar del diccionario los meses de Julio y Agosto\n",
    "7) Recorrer el diccionario y mostrar por pantalla mes con los días del mes.\n",
    "\"\"\"\n"
   ]
  },
  {
   "cell_type": "code",
   "execution_count": null,
   "metadata": {},
   "outputs": [],
   "source": [
    "\"\"\"\n",
    "Ejercicio 5: Condicional\n",
    "Dependiendo del valor que se le asigne a una variable llamada mes nos tendrá que dar el número de días que tiene ese mes en otra variable llamada num_dias.\n",
    "\"\"\"\n"
   ]
  },
  {
   "cell_type": "code",
   "execution_count": null,
   "metadata": {},
   "outputs": [],
   "source": [
    "\"\"\"\n",
    "Ejercicio: Funciones\n",
    "1) Crear una función que calcule el número de días de un mes ( ejercicio anterior).\n",
    "2) Crear una función que reciba un argumento, y si se trata de un cadena retorne “Es un string: nombre”. Si el argumento es erróneo debe devolver “Error”\n",
    "3) Crea una función que reciba un número y devuelva el mes en esa posición\n",
    "\"\"\""
   ]
  },
  {
   "cell_type": "code",
   "execution_count": null,
   "metadata": {},
   "outputs": [],
   "source": [
    "\"\"\"\n",
    "Ejercicio: Bucle foor\n",
    "1) Crea una función que devuelva una lista con los números múltiplos de 3 entre el 0 y el 90.\n",
    "2) Crea una función que recorra los meses y devuelva aquellos que contienen una letra ‘E’.\n",
    "\"\"\"\n",
    "\n"
   ]
  },
  {
   "cell_type": "code",
   "execution_count": null,
   "metadata": {},
   "outputs": [],
   "source": [
    "\"\"\"\n",
    "Ejercicio: Bucle for + diccionario\n",
    "\n",
    "A partir de una lista de tuplas con el siguiente formato:\n",
    "\n",
    "nombres = [ (Alvaro, Salamanca),   (Mario, Madrid),   (Marta, Salamanca),   (Juan, Avila),   \n",
    "(Pedro, Madrid),   (Susana, Soria),   (Martin, Valladolid),   (Mario, Valladolid),   (Jorge, Palencia) ]\n",
    "\n",
    "Crea un programa que genere un diccionario de ciudades, y que para cada ciudad almacene los nombres de las distintas personas asociadas a esa ciudad\n",
    "\"\"\"\n"
   ]
  },
  {
   "cell_type": "code",
   "execution_count": null,
   "metadata": {},
   "outputs": [],
   "source": [
    "\"\"\"\n",
    "Ejercicio: While\n",
    "Crea una función que devuelva una lista con los números múltiplos de 3 entre el 0 y el 90 utilizando un bucle while.\n",
    "\"\"\""
   ]
  },
  {
   "cell_type": "code",
   "execution_count": 31,
   "metadata": {},
   "outputs": [],
   "source": [
    "\"\"\"\n",
    "Ejercicio: \n",
    "Dado el archivo quijote.txt\n",
    "\n",
    "Leer el contenido del fichero\n",
    "Imprimir por pantalla la palabra más usada\n",
    "\"\"\""
   ]
  }
 ]
}