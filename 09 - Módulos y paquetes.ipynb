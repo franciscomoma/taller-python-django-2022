{
 "cells": [
  {
   "cell_type": "markdown",
   "id": "nasty-cartridge",
   "metadata": {},
   "source": [
    "# Módulos y Paquetes"
   ]
  },
  {
   "cell_type": "markdown",
   "id": "mathematical-monitor",
   "metadata": {},
   "source": [
    "## Introducción\n",
    "\n",
    "A la hora de desarrollar software en **Python** existe una gran cantidad de **funciones** provistos por el propio **python** o creados por la comunidad que se distribuyen en **paquetes** y que nos facilitarán la tarea.\n",
    "\n",
    "A su vez, un usuario puede crear sus propios **módulos** (module) o **paquetes** (package) para facilitar la reutilización de código."
   ]
  },
  {
   "cell_type": "markdown",
   "id": "incorrect-chapter",
   "metadata": {},
   "source": [
    "## Módulos y paquetes\n",
    "\n",
    "### Módulos\n",
    "\n",
    "Un **módulo** es un fragmento de código aislado en un archivo `.py` que ya contiene una funcionalidad completa y que podemos invocar en el resto del código. Está a un nivel superior que las **clases** puesto que los **módulos** están compuestos de **funciones**, **clases** y **variables** (constantes) y se componen de diferentes ficheros distribuidos en una estructura de directorios concreta.\n",
    "\n",
    "Para hacer uso de ellos, se utiliza la palabra reservada **import** (`import <nombre_del_módulo>`) lo cual importa el **módulo** completo, aunque es posible importar solamente una **clase** o **función** de un **módulo** con la sintaxis `from <nombre_del_módulo> import <nombre_del_item>` o `from <nombre_del_módulo> import *`, el cual importará todos los items disponibles en el **módulo**. Esto último no es recomendable, porque se pierde el control de que se importa y además, resulta pesado. No obstante, la diferencia entre `import my_module` y `from my_module import *` es el acceso a los items. Si dentro de `my_module` existe una función llamada `sum_list`, en el primer caso estaría disponible a traves de `my_module` con la sintaxis `my_module.sum_list()` mientras que con `from *` estaría disponible `sum_list()` de forma directa, al igual que con `from my_module import sum_list`. Lo mas recomendable es evitar importar con `*`.\n",
    "\n",
    "La importación suele hacerse al inicio de cada archivo, aunque puede hacerse mas adelante como fruto de una condición. Como curiosidad, existe un **paquete** que nos permite reorganizar los **imports** que existen al principio de cada archivo. Este paquete es [**isort**](https://pypi.org/project/isort/ \"Paquete ISort\"). Es meramente estético, pero muy recomendable para mantener uniformidad en un proyecto.\n",
    "\n",
    "En caso en el que se necesite **importar** dos items que tienen el mismo nombre en dos **módulos** distintos, se puede utilizar `as` para renombrarlos:\n",
    "\n",
    "```\n",
    "from module_a import sum_function\n",
    "from module_b import sum_function\n",
    "```\n",
    "\n",
    "Esto es ilegal porque el segundo `sum_function` estaría sobreescribiendo el primero. Pero se solventa con `as`:\n",
    "\n",
    "```\n",
    "from module_a import sum_function as sum_function_a\n",
    "from module_b import sum_function as sum_function_b\n",
    "```\n",
    "\n",
    "\n",
    "### Paquetes\n",
    "\n",
    "Los **módulos** pueden agruparse a su vez en **paquetes**. Un **paquete** es un subdirectorio que contiene varios **módulos**, pero para que funcione como tal, tiene que contenter un archivo `__init__.py`. Se admite que `__init__.py` sea un archivo vacío, aunque puede utilizarse para inicializar código del módulo o para alterar la lista de items disponibles `__all__`. Esta lista es la responsable de indicar que items se importan con `from *` (visto anteriormente).\n",
    "\n",
    "Para importar items dentro de un **paquete** es idéntico a como se haría con un **módulo**, indicando la ruta completa hacia el módulo del que se quiere **importar**. Por ejemplo, del **paquete** `my_package` es necesario importar la función `sum_list` que está dentro de `my_module`, la sintaxis sería `from my_package.my_module import sum_list`, o se puede importar el **módulo** entero con `from my_package import my_module` y acceder con `my_module.sum_list`. Como se puede deducir, se puede filtrar que se importa variando la forma de acceso al item deseado.\n"
   ]
  },
  {
   "cell_type": "markdown",
   "id": "amended-cinema",
   "metadata": {},
   "source": [
    "## La biblioteca estándar y las funciones *built-in*\n",
    "\n",
    "Con la mera instalación de **python** se instalan una variedad de **modulos** y **funciones** conocidos como la [**biblioteca estándar**](https://docs.python.org/es/3/library/ \"Biblioteca estándar\"):\n",
    "\n",
    "- `datetime`: Permite manipular fechas y el formateo de las mismas en **cadenas de texto** y viceversa\n",
    "- `json`: Facilita la manipulación y conversión de **cadenas de texto** `json` en **diccionarios** y viceversa.\n",
    "\n",
    "También están disponibles en cualquier punto del código sin necesidad de importarlas una serie de [**funciones built-in**](https://docs.python.org/3/library/functions.html \"Built-in functions\") como por ejemplo:\n",
    "\n",
    "- `bool, dict, float, int, list, set, str`: Funciones que convierten al tipo que indican el contenido que se les pasa como parámetro.\n",
    "- `print`: Imprime por la salida estándar (consola) la **cadena de texto** que recibe como parámetro.\n",
    "- `max, min`: Devuelven el elemento mayor (max) o menor (min) de la **lista** que reciben como parámetro.\n",
    "- `abs`: Devuelve el valor absoluto de una variable numérica (o de un **objeto** cuya **clase** implemente `__abs__`)"
   ]
  },
  {
   "cell_type": "markdown",
   "id": "superb-pound",
   "metadata": {},
   "source": [
    "## El instalador de paquetes pip y la gestión de dependencias\n",
    "\n",
    "Además de los **módulos** incluidos en la **biblioteca estándar**, **python** posee un instalador de **paquetes** externos llamado **pip**.\n",
    "\n",
    "Con **pip** se pueden añadir al entorno actual, bien sea la instalación de **python** global del Sistema Operativo o un **entorno virtual**. Los **paquetes** disponibles se pueden encontrar en [**PyPI**](https://pypi.org/ \"PyPI\").\n",
    "\n",
    "Para instalar un **paquete**, basta con ejecutar en la línea de comandos `pip install <nombre_del_paquete>`. Además, se puede especificar que versión instalar (se encuentra en [**PyPI**](https://pypi.org/ \"PyPI\") también). Lo ideal es tener un archivo de requisitos con las versiones de los **paquetes** con las que se desarrolla un proyecto e instalarlo con `pip install -r <nombre_del_archivo>`, por ejemplo:\n",
    "\n",
    "```\n",
    "django==3.1\n",
    "requests>=2.22.0,<3\n",
    "```\n",
    "\n",
    "En este ejemplo se ve como instalar una versión concreta con `==`, instalaría solamente la versión 3.1 de **Django** sin importar cuando se ejecute `pip install`, pero en el caso de **Requests**, si se ejecuta ahora mismo y la última versión es 2.22.0 instalaría esa, pero si mañana publican una versión superior `pip install` instalaría la más nueva siempre y cuando sea inferior a la versión 3, que es la segunda condición que se especifica. Por tanto es posible tener un paquete actualizado a una versión más reciente pero sin sobrepasar un límite que pueda hacer que un proyecto se rompa por dicha actualización de una dependencia. Si no se especifica ninguna condición, **pip** instalará siempre la última versión disponible.\n",
    "\n",
    "Es posible también listar los **paquetes** instalados en un entorno con `pip freeze`.\n",
    "\n",
    "Para terminar, se pueden instalar paquetes diréctamente de [**GitHub**](https://github.com/ \"GitHub\") con \n",
    "```pip install git+https://github.com/<owner_del_proyecto>/<nombre_del_proyecto>.git@<rama_de_git>```.\n"
   ]
  },
  {
   "cell_type": "markdown",
   "id": "medical-blowing",
   "metadata": {},
   "source": [
    "## Para ampliar"
   ]
  },
  {
   "cell_type": "markdown",
   "id": "mental-contest",
   "metadata": {},
   "source": [
    "### Gestores de dependencias\n",
    "\n",
    "Si bien **pip** es una excelente utilidad para instalar paquetes, actualmente existen gestores de dependencias más avanzados que corrigen algunas de las carencias de **pip** y añaden funcionalidad extra aunque no son estándar:\n",
    "\n",
    "- [Poetry](https://python-poetry.org/): Proporciona gestión de dependencias y es compatible con `pyproject.toml` (un archivo de configuración multiherramienta).\n",
    "- [Pipenv](https://pipenv.pypa.io/en/latest/): Proporciona en una sola herramienta gestión de dependencias y entornos virtuales, además hacen hincapié en su uso en Windows.\n",
    "\n",
    "Ambas proporcionan un parámetro para visualizar el arbol de dependencias, lo cual es útil para saber las dependencias que tienen los **paquetes** de los que depende nuestro proyecto. En otras palabras, saber si una de las dependencias existentes ya instala otro **paquete** que nos resulta útil.\n",
    "\n",
    "No hacen obsoleto a **pip**, pero es una buena idea sopesarlo a la hora de iniciar un nuevo proyecto que pueda tener una alta complejidad en sus dependencias externas."
   ]
  },
  {
   "cell_type": "markdown",
   "id": "optional-navigation",
   "metadata": {},
   "source": [
    "### Importlib, importando módulos programáticamente\n",
    "\n",
    "La palabra reservada **import** no es la única vía para importar **módulos** estos también pueden ser importados a partir del **módulo** `importlib` disponible en la **biblioteca estándar**. Es más, `importlib` es la implementación de **import**, pero provee de funcionalidad extra, como importar un **módulo** a partir de una **cadena de texto**:"
   ]
  },
  {
   "cell_type": "code",
   "execution_count": null,
   "id": "interstate-child",
   "metadata": {},
   "outputs": [],
   "source": [
    "import importlib\n",
    "import datetime as imported_datetime\n",
    "\n",
    "datetime_from_importlib = importlib.import_module(\"datetime\", \"datetime\")\n",
    "\n",
    "imported_datetime == datetime_from_importlib\n"
   ]
  },
  {
   "cell_type": "markdown",
   "id": "biological-greece",
   "metadata": {},
   "source": [
    "Este caso es útil para **importar** un **módulo** en tiempo de ejecución en función del contenido de una variable, por ejemplo."
   ]
  },
  {
   "cell_type": "markdown",
   "id": "injured-integer",
   "metadata": {},
   "source": [
    "## Ejercicios\n",
    "\n",
    "1. Instala las últimas versiones de los paquetes [`requests`](https://pypi.org/project/requests/) y [`beautifulsoup4`](https://pypi.org/project/beautifulsoup4/) en tu **entorno virtual**.\n",
    "\n",
    "2. Lista todos los paquetes instalados en tu entorno virtual.\n",
    "\n",
    "3. A partir del resultado del ejercicio anterior, crea un archivo llamado `requirements.txt` en la carpeta donde creaste `modelos.py` indicando las versiones de los dos paquetes del ejercicio 1.\n",
    "\n",
    "4. Copia de [este repositorio](https://github.com/dchimeno/taller-python) el archivo `scrapper.py` en la misma carpeta que tienes `modelos.py` y edita `modelos.py` para importar la función `obtener_noticias`.\n"
   ]
  }
 ],
 "metadata": {
  "kernelspec": {
   "display_name": "Python 3 (ipykernel)",
   "language": "python",
   "name": "python3"
  },
  "language_info": {
   "codemirror_mode": {
    "name": "ipython",
    "version": 3
   },
   "file_extension": ".py",
   "mimetype": "text/x-python",
   "name": "python",
   "nbconvert_exporter": "python",
   "pygments_lexer": "ipython3",
   "version": "3.9.9"
  }
 },
 "nbformat": 4,
 "nbformat_minor": 5
}
