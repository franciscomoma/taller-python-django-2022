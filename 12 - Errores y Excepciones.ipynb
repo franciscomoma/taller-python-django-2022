{
 "cells": [
  {
   "cell_type": "markdown",
   "id": "developmental-detail",
   "metadata": {},
   "source": [
    "# Errores y excepciones"
   ]
  },
  {
   "cell_type": "markdown",
   "id": "boxed-therapist",
   "metadata": {},
   "source": [
    "## Introducción\n",
    "\n",
    "Durante la ejecución de código, pueden darse errores que rompan con la ejecución del mismo, pero es posible preverlos y actuar en consecuencia para avisar al usuario del programa sobre la causa."
   ]
  },
  {
   "cell_type": "markdown",
   "id": "timely-shoot",
   "metadata": {},
   "source": [
    "## Manejo de errores y excepciones\n",
    "\n",
    "Se llama *manejo* de errores a la previsión de que en un fragmento de código, algo puede salir mal. Por ejemplo, en una función `sumar`, se pasan como **parámetro** elementos que no se pueden sumar:"
   ]
  },
  {
   "cell_type": "code",
   "execution_count": null,
   "id": "improved-forward",
   "metadata": {},
   "outputs": [],
   "source": [
    "def sumar(a, b):\n",
    "    return a + b\n",
    "\n",
    "sumar(\"1\", 2)\n",
    "\n",
    "print(\"Como se ha roto, no verás este mensaje\")"
   ]
  },
  {
   "cell_type": "markdown",
   "id": "threaded-stockholm",
   "metadata": {},
   "source": [
    "Para los **errores** o **excepciones** comunes, **python** indica muy bien el problema:\n",
    "\n",
    "`TypeError: can only concatenate str (not \"int\") to str`\n",
    "\n",
    "Lo primero es el tipo de **error** ocasionado, `TypeError` en este caso, y luego una breve explicación de la causa.\n",
    "\n",
    "Para manejar el **error** `TypeError`, basta con incluir un bloque **try/except**:"
   ]
  },
  {
   "cell_type": "code",
   "execution_count": null,
   "id": "existing-spiritual",
   "metadata": {},
   "outputs": [],
   "source": [
    "def sumar(a, b):\n",
    "    try:\n",
    "        return a + b\n",
    "    except TypeError:\n",
    "        print(f\"Atención!! Los objetos recibidos {a} ({type(a).__name__}) y {b} ({type(b).__name__}) no se pueden sumar entre si\")\n",
    "\n",
    "sumar(\"1\", 2)\n",
    "\n",
    "print(\"Como la excepción está manejada, si verás este mensaje\")"
   ]
  },
  {
   "cell_type": "markdown",
   "id": "hidden-mixer",
   "metadata": {},
   "source": [
    "Los bloques **except** se pueden anidar para manejar diferentes tipos de **excepciones** e incluso se puede añadir un **except** genérico que capturaría cualquier **excepción**.\n",
    "\n",
    "Dentro de cada bloque **except** se devuelve un **objeto** con los detalles de la **excepción**. De hecho, es buena práctica añadir un alias para recuperar ese objeto.\n",
    "\n",
    "Para lanzar manualmente una excepción, se utiliza la palabra reservada `raise` acompañada del **objeto** de la clase de **excepción** o **error** a lanzar.\n",
    "\n",
    "A los bloques **try/except** puede añadirse un último bloque **else** que se ejecutará si no se ha capturado ninguna excepción y/o **finally**, que se ejecutará siempre y puede resultar útil para cerrar un archivo que se haya abierto para su lectura o una conexión con una base de datos, por ejemplo.\n",
    "\n",
    "Por último, se pueden crear nuevas **excepciones** o **errores** heredando de `Excepcion` o `Error`.\n",
    "\n",
    "Aquí un fragmento de código para ilustrar todo esto:"
   ]
  },
  {
   "cell_type": "code",
   "execution_count": null,
   "id": "sonic-celtic",
   "metadata": {},
   "outputs": [],
   "source": [
    "# Nuevas excepciones\n",
    "class NotAllowedException(Exception):\n",
    "    # Clase NotAllowedException genérica.\n",
    "    pass\n",
    "\n",
    "class IntNotAllowedException(NotAllowedException):\n",
    "    pass\n",
    "\n",
    "class FloatNotAllowedException(NotAllowedException):\n",
    "    pass\n",
    "\n",
    "class StrNotAllowedException(NotAllowedException):\n",
    "    pass\n",
    "\n",
    "\n",
    "# Una función que siempre falla\n",
    "def exception_launcher(param=None):\n",
    "    if param:\n",
    "        if isinstance(param, int):\n",
    "            raise IntNotAllowedException(\"No se permiten valores enteros\")\n",
    "        elif isinstance(param, float):\n",
    "            raise FloatNotAllowedException(\"No se permiten valores con decimales\")\n",
    "        elif isinstance(param, str):\n",
    "            raise StrNotAllowedException(\"No se permiten cadenas de texto\")  \n",
    "        else:\n",
    "            raise NotAllowedException(\"El valor recibido no está permitido\")\n",
    "    else:\n",
    "        raise ValueError(\"No se ha recibido ningún parámetro\")"
   ]
  },
  {
   "cell_type": "markdown",
   "id": "neutral-logan",
   "metadata": {},
   "source": [
    "En el fragmento de código anterior se definen nuevos tipos de **excepción**. Como las nuevas **excepciones** se comportan exactamente igual que `Exception`, no es necesario implementar ningún código, solamente interesa el tipo de **excepción** a lanzar. Luego el uso de las distintas **excepciones** dará la información del tipo de problema que ha ocurrido.\n",
    "\n",
    "La función implementada siempre va a lanzar **excepciones**, así que servirá para aprender a manejarlas:"
   ]
  },
  {
   "cell_type": "code",
   "execution_count": null,
   "id": "difficult-index",
   "metadata": {},
   "outputs": [],
   "source": [
    "exception_launcher(\"Hola!\")"
   ]
  },
  {
   "cell_type": "code",
   "execution_count": null,
   "id": "laden-ordinance",
   "metadata": {},
   "outputs": [],
   "source": [
    "def exception_handler(param=None):\n",
    "    try:\n",
    "        exception_launcher(param)\n",
    "    except:\n",
    "        print(f\"Todo está bien con el valor {param}, circulen\")\n",
    "\n",
    "exception_handler()\n",
    "exception_handler(\"Hola!\")\n",
    "exception_handler(1)\n",
    "exception_handler(2.0)\n",
    "exception_handler([\"Hola\", \"mundo\"])\n"
   ]
  },
  {
   "cell_type": "markdown",
   "id": "dietary-manufacturer",
   "metadata": {},
   "source": [
    "Con ese simple manejo de **excepciones** como es utilizar un **except** genérico, se capturan todos los tipos y el código seguiría funcionando, pero ya que se recibe información exacta de que está ocurriendo, se puede hacer un manejo mucho más preciso:"
   ]
  },
  {
   "cell_type": "code",
   "execution_count": null,
   "id": "informal-button",
   "metadata": {},
   "outputs": [],
   "source": [
    "def better_exception_handler(param=None):\n",
    "    try:\n",
    "        exception_launcher(param)\n",
    "    except IntNotAllowedException as int_exc:\n",
    "        print(f\"El valor entero {param} no está permitido, se devolverá un valor por defecto\")\n",
    "    except FloatNotAllowedException as int_exc:\n",
    "        print(f\"El valor decimal {param} no está permitido, se devolverá un valor por defecto\")\n",
    "    except StrNotAllowedException as str_exc:\n",
    "        print(f\"La cadena {param} no está permitida, se devolverá un valor por defecto\")\n",
    "    except NotAllowedException as na_exc:\n",
    "        print(f\"El valor {param} no está permitido, se devolverá un valor por defecto\")\n",
    "    except Exception as exc:\n",
    "        print(f\"Ha ocurrido un error inexperado, se devolverá un valor por defecto\")\n",
    "    finally:\n",
    "        return True\n",
    "    \n",
    "better_exception_handler()\n",
    "better_exception_handler(\"Hola!\")\n",
    "better_exception_handler(1)\n",
    "better_exception_handler(2.0)\n",
    "better_exception_handler([\"Hola\", \"mundo\"])"
   ]
  },
  {
   "cell_type": "code",
   "execution_count": null,
   "id": "noticed-microphone",
   "metadata": {},
   "outputs": [],
   "source": []
  }
 ],
 "metadata": {
  "kernelspec": {
   "display_name": "Python 3 (ipykernel)",
   "language": "python",
   "name": "python3"
  },
  "language_info": {
   "codemirror_mode": {
    "name": "ipython",
    "version": 3
   },
   "file_extension": ".py",
   "mimetype": "text/x-python",
   "name": "python",
   "nbconvert_exporter": "python",
   "pygments_lexer": "ipython3",
   "version": "3.9.9"
  }
 },
 "nbformat": 4,
 "nbformat_minor": 5
}
